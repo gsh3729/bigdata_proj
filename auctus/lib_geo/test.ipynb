{
 "cells": [
  {
   "cell_type": "code",
   "execution_count": 1,
   "metadata": {},
   "outputs": [],
   "source": [
    "import datamart_geo"
   ]
  },
  {
   "cell_type": "code",
   "execution_count": 2,
   "metadata": {},
   "outputs": [],
   "source": [
    "# Download data\n",
    "geo_data = datamart_geo.GeoData.download(\n",
    "    # Defaults to current user's home but let's put it in the current folder now\n",
    "    destination='test-datamartgeo-data',\n",
    "    # Whether to update if there is already data (but it's out of date)\n",
    "    update=True,\n",
    ")"
   ]
  },
  {
   "cell_type": "code",
   "execution_count": 3,
   "metadata": {},
   "outputs": [
    {
     "name": "stdout",
     "output_type": "stream",
     "text": [
      "<datamart_geo.Area \"Republic of France\" (3017382) type=Type.ADMIN_0>\n",
      "46.0 2.0\n"
     ]
    }
   ],
   "source": [
    "# Search for an administrative area\n",
    "a_france = geo_data.resolve_name('France')\n",
    "print(a_france)\n",
    "assert a_france.type == datamart_geo.Type.ADMIN_0\n",
    "assert a_france.type == datamart_geo.Type.COUNTRY\n",
    "print(a_france.latitude, a_france.longitude)"
   ]
  },
  {
   "cell_type": "code",
   "execution_count": 4,
   "metadata": {},
   "outputs": [
    {
     "name": "stdout",
     "output_type": "stream",
     "text": [
      "<datamart_geo.Area \"Cuers\" (6451482) type=Type.ADMIN_4>\n",
      "43.2375 6.07083\n"
     ]
    }
   ],
   "source": [
    "# Other area\n",
    "a_cuers = geo_data.resolve_name('Cuers')\n",
    "print(a_cuers)\n",
    "assert a_cuers.type == datamart_geo.Type.ADMIN_4\n",
    "print(a_cuers.latitude, a_cuers.longitude)"
   ]
  },
  {
   "cell_type": "code",
   "execution_count": 5,
   "metadata": {},
   "outputs": [
    {
     "data": {
      "text/plain": [
       "{'Cuers', 'cuers', 'ker', 'kjuers', 'qu ai er', 'кер', 'кюерс', '屈埃尔'}"
      ]
     },
     "execution_count": 5,
     "metadata": {},
     "output_type": "execute_result"
    }
   ],
   "source": [
    "a_cuers.names"
   ]
  },
  {
   "cell_type": "code",
   "execution_count": 6,
   "metadata": {},
   "outputs": [
    {
     "name": "stdout",
     "output_type": "stream",
     "text": [
      "<datamart_geo.Area \"Arrondissement de Toulon\" (2972326) type=Type.ADMIN_3>\n",
      "43.1837 6.04692\n"
     ]
    }
   ],
   "source": [
    "a_toulon = a_cuers.get_parent_area()\n",
    "print(a_toulon)\n",
    "assert a_toulon.type == datamart_geo.Type.ADMIN_3\n",
    "print(a_toulon.latitude, a_toulon.longitude)"
   ]
  },
  {
   "cell_type": "code",
   "execution_count": 7,
   "metadata": {},
   "outputs": [
    {
     "name": "stdout",
     "output_type": "stream",
     "text": [
      "<datamart_geo.Area \"Republic of France\" (3017382) type=Type.ADMIN_0>\n"
     ]
    }
   ],
   "source": [
    "a_france = a_cuers.get_parent_area(datamart_geo.Type.COUNTRY)\n",
    "print(a_france)\n",
    "assert a_france.type == datamart_geo.Type.COUNTRY"
   ]
  },
  {
   "cell_type": "code",
   "execution_count": 8,
   "metadata": {},
   "outputs": [
    {
     "data": {
      "text/plain": [
       "(-178.38739013671875,\n",
       " 172.3057403564453,\n",
       " -50.21872329711914,\n",
       " 51.305572509765625)"
      ]
     },
     "execution_count": 8,
     "metadata": {},
     "output_type": "execute_result"
    }
   ],
   "source": [
    "a_france.bounds"
   ]
  },
  {
   "cell_type": "code",
   "execution_count": 9,
   "metadata": {},
   "outputs": [
    {
     "data": {
      "text/plain": [
       "[(<datamart_geo.Area \"Var\" (2970749) type=Type.ADMIN_2>,\n",
       "  <datamart_geo.Area \"Provence-Alpes-Côte d'Azur\" (2985244) type=Type.ADMIN_1>),\n",
       " (<datamart_geo.Area \"Vars\" (6427887) type=Type.ADMIN_4>,\n",
       "  <datamart_geo.Area \"Nouvelle-Aquitaine\" (11071620) type=Type.ADMIN_1>),\n",
       " (<datamart_geo.Area \"Vars\" (6442138) type=Type.ADMIN_4>,\n",
       "  <datamart_geo.Area \"Bourgogne-Franche-Comté\" (11071619) type=Type.ADMIN_1>)]"
      ]
     },
     "execution_count": 9,
     "metadata": {},
     "output_type": "execute_result"
    }
   ],
   "source": [
    "[(a, a.get_parent_area(datamart_geo.Type.ADMIN_1)) for a in geo_data.resolve_name_all('Var')]"
   ]
  },
  {
   "cell_type": "code",
   "execution_count": 10,
   "metadata": {},
   "outputs": [
    {
     "name": "stdout",
     "output_type": "stream",
     "text": [
      "0.6666666865348816\n"
     ]
    },
    {
     "data": {
      "text/plain": [
       "[(0.6666666865348816, <datamart_geo.Area \"Cuers\" (6451482) type=Type.ADMIN_4>),\n",
       " (0.4000000059604645, <datamart_geo.Area \"Cusio\" (6536540) type=Type.ADMIN_3>),\n",
       " (0.3636363744735718,\n",
       "  <datamart_geo.Area \"Cura Carpignano\" (6543766) type=Type.ADMIN_3>),\n",
       " (0.3333333432674408,\n",
       "  <datamart_geo.Area \"Cuevas\" (11770784) type=Type.ADMIN_4>),\n",
       " (0.3333333432674408,\n",
       "  <datamart_geo.Area \"Cuélas\" (6431899) type=Type.ADMIN_4>),\n",
       " (0.3333333432674408,\n",
       "  <datamart_geo.Area \"Cuerva\" (6361715) type=Type.ADMIN_3>),\n",
       " (0.3333333432674408,\n",
       "  <datamart_geo.Area \"Cuevas\" (11157503) type=Type.ADMIN_5>),\n",
       " (0.3333333432674408,\n",
       "  <datamart_geo.Area \"Kuurne\" (2793858) type=Type.ADMIN_4>),\n",
       " (0.3076923191547394,\n",
       "  <datamart_geo.Area \"Cureggio\" (6543423) type=Type.ADMIN_3>),\n",
       " (0.3076923191547394,\n",
       "  <datamart_geo.Area \"Cuerden\" (7295341) type=Type.ADMIN_4>),\n",
       " (0.30000001192092896,\n",
       "  <datamart_geo.Area \"Roses\" (6534115) type=Type.ADMIN_3>),\n",
       " (0.30000001192092896, <datamart_geo.Area \"Cue\" (7839494) type=Type.ADMIN_2>)]"
      ]
     },
     "execution_count": 10,
     "metadata": {},
     "output_type": "execute_result"
    }
   ],
   "source": [
    "# Fuzzy search for an area\n",
    "hits = geo_data.resolve_name_fuzzy('cuerss')\n",
    "score, area = hits[0]\n",
    "print(score)\n",
    "assert area == a_cuers\n",
    "hits"
   ]
  },
  {
   "cell_type": "code",
   "execution_count": null,
   "metadata": {},
   "outputs": [],
   "source": []
  }
 ],
 "metadata": {
  "kernelspec": {
   "display_name": "_rr_auctus",
   "language": "python",
   "name": "_rr_auctus"
  },
  "language_info": {
   "codemirror_mode": {
    "name": "ipython",
    "version": 3
   },
   "file_extension": ".py",
   "mimetype": "text/x-python",
   "name": "python",
   "nbconvert_exporter": "python",
   "pygments_lexer": "ipython3",
   "version": "3.8.5"
  }
 },
 "nbformat": 4,
 "nbformat_minor": 4
}
